{
 "cells": [
  {
   "cell_type": "code",
   "execution_count": 2,
   "metadata": {
    "colab": {},
    "colab_type": "code",
    "id": "OKEWI73ME1WV"
   },
   "outputs": [],
   "source": [
    "import numpy as np\n",
    "import matplotlib.pyplot as plt\n",
    "from itertools import product\n",
    "%matplotlib inline"
   ]
  },
  {
   "cell_type": "code",
   "execution_count": 3,
   "metadata": {
    "colab": {
     "base_uri": "https://localhost:8080/",
     "height": 151
    },
    "colab_type": "code",
    "id": "EhXk7jR4E1W5",
    "outputId": "88aba8de-952d-46aa-c057-72b6d2a86461",
    "scrolled": true
   },
   "outputs": [
    {
     "name": "stdout",
     "output_type": "stream",
     "text": [
      "[[0.93573039 0.67031042]\n",
      " [0.85490932 0.02679471]\n",
      " [0.13928423 0.20182699]\n",
      " [0.1540053  0.38037399]\n",
      " [0.96486171 0.83347654]\n",
      " [0.44357991 0.8453831 ]\n",
      " [0.29343787 0.1287859 ]\n",
      " [0.31865797 0.67921751]]\n"
     ]
    }
   ],
   "source": [
    "np.random.seed(17345432)\n",
    "\n",
    "X = np.random.rand(8,2)\n",
    "print(X)"
   ]
  },
  {
   "cell_type": "code",
   "execution_count": 4,
   "metadata": {
    "colab": {},
    "colab_type": "code",
    "id": "UqeDYOD-E1Xc"
   },
   "outputs": [],
   "source": [
    "class myHierarchicalClustering(object):\n",
    "    \n",
    "        \n",
    "    def computeDistancesBetweenClusters(self,samples):\n",
    "        \n",
    "    \n",
    "        distanceMatrix = np.zeros((len(samples),len(samples)))\n",
    "\n",
    "      \n",
    "        loo = list(product(range(distanceMatrix.shape[0]), range(distanceMatrix.shape[0])))\n",
    "        for k in range(len(loo)):\n",
    "          i, j = loo[k]\n",
    "        \n",
    "          if(i == j):\n",
    "            distanceMatrix[i,j] = 10**4\n",
    "          else:\n",
    "            \n",
    "            distanceMatrix[i,j] = float(self.calculateDistanceBetweenPointsForClusters(samples[i],samples[j]))\n",
    "\n",
    "        return distanceMatrix\n",
    "    \n",
    "    \n",
    "    def calculateDistanceBetweenPointsForClusters(self,sample1,sample2):\n",
    "        \n",
    "        \n",
    "        distance = []\n",
    "        \n",
    "      \n",
    "        loo3 = list(product(range(len(sample1)), range(len(sample2))))\n",
    "\n",
    "        for h in range(len(loo3)):\n",
    "          i, j = loo3[h]\n",
    "          try:\n",
    "            \n",
    "            distance.append(np.linalg.norm(np.array(sample1[i]) - np.array(sample2[j])))\n",
    "          except:\n",
    "           \n",
    "            distance.append(self.interSampleDistance(sample1[i], sample2[j]))\n",
    "        return min(distance)\n",
    "\n",
    "    def interSampleDistance(self,s1,s2):\n",
    "        \n",
    "      \n",
    "        print(\"type s2 : \",type(s2[0]))\n",
    "        if str(type(s2[0]))!='<class \\'list\\'>':\n",
    "            s2=[s2]\n",
    "        if str(type(s1[0]))!='<class \\'list\\'>':\n",
    "            s1=[s1]\n",
    "\n",
    "        distance = []\n",
    "        a = len(s1)\n",
    "        b = len(s2)\n",
    "        \n",
    "        \n",
    "        if a >=b:\n",
    "          loo4 = list(product(range(len(a)), range(len(b))))\n",
    "        else:\n",
    "          loo4 = list(product(range(len(b)), range(len(a))))\n",
    "\n",
    "        for l in range(len(loo4)):\n",
    "          i, j = loo4[l]\n",
    "\n",
    "          if a >= b:\n",
    "            if (len(s1[i])>=len(s2[j])) and str(type(s1[i][0])!='<class \\'list\\'>'):\n",
    "              dist.append(self.interClusterDistance(s1[i],s2[j]))\n",
    "            else:\n",
    "              dist.append(np.linalg.norm(np.array(s1[i])-np.array(s2[j])))\n",
    "          else:\n",
    "            if (len(s2[i])>=len(s1[j])) and str(type(s2[i][0])!='<class \\'list\\'>'):\n",
    "              dist.append(self.interClusterDistance(s2[i],s1[j]))\n",
    "            else:\n",
    "              dist.append(np.linalg.norm(np.array(s2[i])-np.array(s1[j])))\n",
    "\n",
    "        return min(distance)\n",
    "    \n",
    "    def interClusterDistance(self,cl,sample):\n",
    "        \n",
    "        if sample[0]!='<class \\'list\\'>':\n",
    "            sample = [sample]\n",
    "       \n",
    "        distance = []\n",
    "        \n",
    "        loo5 = list(product(range(len(cl)), range(len(sample))))\n",
    "\n",
    "        for q in range(len(loo5)):\n",
    "          i, j = loo5[q]\n",
    "          distance.append(np.linalg.norm(np.array(cl[i])-np.array(sample[j])))\n",
    "        return min(distance)\n",
    "    \n",
    "    "
   ]
  },
  {
   "cell_type": "code",
   "execution_count": 5,
   "metadata": {
    "colab": {
     "base_uri": "https://localhost:8080/",
     "height": 1000
    },
    "colab_type": "code",
    "id": "XpKwd9zVE1X9",
    "outputId": "cc373a60-bf8b-4714-905b-21eeb68bd4b3"
   },
   "outputs": [
    {
     "name": "stdout",
     "output_type": "stream",
     "text": [
      "\n",
      "\n",
      "Cluster size before current iteration    :-  8\n",
      "Cluster Node 1 :- [0]\n",
      "Cluster Node 2 :- [4]\n",
      "A look at the current clusters :- [[[0, [4]]], [1], [2], [3], [5], [6], [7]]\n",
      " cluster attained at the current iteration :- [[0, [4]]]\n",
      "Cluster size after current iteration     :- 7\n",
      "\n",
      "\n",
      "****************************************\n",
      "\n",
      "\n",
      "Cluster size before current iteration    :-  7\n",
      "Cluster Node 1 :- [2]\n",
      "Cluster Node 2 :- [6]\n",
      "A look at the current clusters :- [[[0, [4]]], [1], [[2, [6]]], [3], [5], [7]]\n",
      " cluster attained at the current iteration :- [[2, [6]]]\n",
      "Cluster size after current iteration     :- 6\n",
      "\n",
      "\n",
      "****************************************\n",
      "\n",
      "\n",
      "Cluster size before current iteration    :-  6\n",
      "Cluster Node 1 :- [[2, [6]]]\n",
      "Cluster Node 2 :- [3]\n",
      "A look at the current clusters :- [[[0, [4]]], [1], [[[2, [6]], [3]]], [5], [7]]\n",
      " cluster attained at the current iteration :- [[[2, [6]], [3]]]\n",
      "Cluster size after current iteration     :- 5\n",
      "\n",
      "\n",
      "****************************************\n",
      "\n",
      "\n",
      "Cluster size before current iteration    :-  5\n",
      "Cluster Node 1 :- [5]\n",
      "Cluster Node 2 :- [7]\n",
      "A look at the current clusters :- [[[0, [4]]], [1], [[[2, [6]], [3]]], [[5, [7]]]]\n",
      " cluster attained at the current iteration :- [[5, [7]]]\n",
      "Cluster size after current iteration     :- 4\n",
      "\n",
      "\n",
      "****************************************\n",
      "\n",
      "\n",
      "Cluster size before current iteration    :-  4\n",
      "Cluster Node 1 :- [[[2, [6]], [3]]]\n",
      "Cluster Node 2 :- [[5, [7]]]\n",
      "A look at the current clusters :- [[[0, [4]]], [1], [[[[2, [6]], [3]], [[5, [7]]]]]]\n",
      " cluster attained at the current iteration :- [[[[2, [6]], [3]], [[5, [7]]]]]\n",
      "Cluster size after current iteration     :- 3\n",
      "\n",
      "\n",
      "****************************************\n",
      "\n",
      "\n",
      "Cluster size before current iteration    :-  3\n",
      "type s2 :  <class 'list'>\n"
     ]
    },
    {
     "ename": "TypeError",
     "evalue": "object of type 'int' has no len()",
     "output_type": "error",
     "traceback": [
      "\u001b[1;31m---------------------------------------------------------------------------\u001b[0m",
      "\u001b[1;31mTypeError\u001b[0m                                 Traceback (most recent call last)",
      "\u001b[1;32m<ipython-input-4-0066052573e1>\u001b[0m in \u001b[0;36mcalculateDistanceBetweenPointsForClusters\u001b[1;34m(self, sample1, sample2)\u001b[0m\n\u001b[0;32m     39\u001b[0m             \u001b[1;31m# if both are of the same type, i.e. either both are clusters or both are samples\u001b[0m\u001b[1;33m\u001b[0m\u001b[1;33m\u001b[0m\u001b[1;33m\u001b[0m\u001b[0m\n\u001b[1;32m---> 40\u001b[1;33m             \u001b[0mdistance\u001b[0m\u001b[1;33m.\u001b[0m\u001b[0mappend\u001b[0m\u001b[1;33m(\u001b[0m\u001b[0mnp\u001b[0m\u001b[1;33m.\u001b[0m\u001b[0mlinalg\u001b[0m\u001b[1;33m.\u001b[0m\u001b[0mnorm\u001b[0m\u001b[1;33m(\u001b[0m\u001b[0mnp\u001b[0m\u001b[1;33m.\u001b[0m\u001b[0marray\u001b[0m\u001b[1;33m(\u001b[0m\u001b[0msample1\u001b[0m\u001b[1;33m[\u001b[0m\u001b[0mi\u001b[0m\u001b[1;33m]\u001b[0m\u001b[1;33m)\u001b[0m \u001b[1;33m-\u001b[0m \u001b[0mnp\u001b[0m\u001b[1;33m.\u001b[0m\u001b[0marray\u001b[0m\u001b[1;33m(\u001b[0m\u001b[0msample2\u001b[0m\u001b[1;33m[\u001b[0m\u001b[0mj\u001b[0m\u001b[1;33m]\u001b[0m\u001b[1;33m)\u001b[0m\u001b[1;33m)\u001b[0m\u001b[1;33m)\u001b[0m\u001b[1;33m\u001b[0m\u001b[1;33m\u001b[0m\u001b[0m\n\u001b[0m\u001b[0;32m     41\u001b[0m           \u001b[1;32mexcept\u001b[0m\u001b[1;33m:\u001b[0m\u001b[1;33m\u001b[0m\u001b[1;33m\u001b[0m\u001b[0m\n",
      "\u001b[1;31mTypeError\u001b[0m: unsupported operand type(s) for -: 'float' and 'list'",
      "\nDuring handling of the above exception, another exception occurred:\n",
      "\u001b[1;31mTypeError\u001b[0m                                 Traceback (most recent call last)",
      "\u001b[1;32m<ipython-input-5-718404c3187d>\u001b[0m in \u001b[0;36m<module>\u001b[1;34m\u001b[0m\n\u001b[0;32m      8\u001b[0m \u001b[1;32mwhile\u001b[0m \u001b[0mactClustLen\u001b[0m \u001b[1;33m>\u001b[0m \u001b[1;36m1\u001b[0m\u001b[1;33m:\u001b[0m\u001b[1;33m\u001b[0m\u001b[1;33m\u001b[0m\u001b[0m\n\u001b[0;32m      9\u001b[0m     \u001b[0mprint\u001b[0m\u001b[1;33m(\u001b[0m\u001b[1;34m'Cluster size before current iteration    :- '\u001b[0m\u001b[1;33m,\u001b[0m \u001b[0mactClustLen\u001b[0m\u001b[1;33m)\u001b[0m\u001b[1;33m\u001b[0m\u001b[1;33m\u001b[0m\u001b[0m\n\u001b[1;32m---> 10\u001b[1;33m     \u001b[0mdistanceMatLV\u001b[0m      \u001b[1;33m=\u001b[0m \u001b[0minst1\u001b[0m\u001b[1;33m.\u001b[0m\u001b[0mcomputeDistancesBetweenClusters\u001b[0m\u001b[1;33m(\u001b[0m\u001b[0mactualClusters\u001b[0m\u001b[1;33m)\u001b[0m\u001b[1;33m\u001b[0m\u001b[1;33m\u001b[0m\u001b[0m\n\u001b[0m\u001b[0;32m     11\u001b[0m     \u001b[0mminIdex\u001b[0m \u001b[1;33m=\u001b[0m \u001b[0mnp\u001b[0m\u001b[1;33m.\u001b[0m\u001b[0mwhere\u001b[0m\u001b[1;33m(\u001b[0m\u001b[0mdistanceMatLV\u001b[0m\u001b[1;33m==\u001b[0m\u001b[0mdistanceMatLV\u001b[0m\u001b[1;33m.\u001b[0m\u001b[0mmin\u001b[0m\u001b[1;33m(\u001b[0m\u001b[1;33m)\u001b[0m\u001b[1;33m)\u001b[0m\u001b[1;33m[\u001b[0m\u001b[1;36m0\u001b[0m\u001b[1;33m]\u001b[0m\u001b[1;33m\u001b[0m\u001b[1;33m\u001b[0m\u001b[0m\n\u001b[0;32m     12\u001b[0m     \u001b[0mvalueToAdd\u001b[0m      \u001b[1;33m=\u001b[0m \u001b[0mactualClusters\u001b[0m\u001b[1;33m.\u001b[0m\u001b[0mpop\u001b[0m\u001b[1;33m(\u001b[0m\u001b[0mminIdex\u001b[0m\u001b[1;33m[\u001b[0m\u001b[1;36m1\u001b[0m\u001b[1;33m]\u001b[0m\u001b[1;33m)\u001b[0m\u001b[1;33m\u001b[0m\u001b[1;33m\u001b[0m\u001b[0m\n",
      "\u001b[1;32m<ipython-input-4-0066052573e1>\u001b[0m in \u001b[0;36mcomputeDistancesBetweenClusters\u001b[1;34m(self, samples)\u001b[0m\n\u001b[0;32m     20\u001b[0m           \u001b[1;32melse\u001b[0m\u001b[1;33m:\u001b[0m\u001b[1;33m\u001b[0m\u001b[1;33m\u001b[0m\u001b[0m\n\u001b[0;32m     21\u001b[0m             \u001b[1;31m# if i != j, its a different point and hence calculate the distance between the two points\u001b[0m\u001b[1;33m\u001b[0m\u001b[1;33m\u001b[0m\u001b[1;33m\u001b[0m\u001b[0m\n\u001b[1;32m---> 22\u001b[1;33m             \u001b[0mdistanceMatrix\u001b[0m\u001b[1;33m[\u001b[0m\u001b[0mi\u001b[0m\u001b[1;33m,\u001b[0m\u001b[0mj\u001b[0m\u001b[1;33m]\u001b[0m \u001b[1;33m=\u001b[0m \u001b[0mfloat\u001b[0m\u001b[1;33m(\u001b[0m\u001b[0mself\u001b[0m\u001b[1;33m.\u001b[0m\u001b[0mcalculateDistanceBetweenPointsForClusters\u001b[0m\u001b[1;33m(\u001b[0m\u001b[0msamples\u001b[0m\u001b[1;33m[\u001b[0m\u001b[0mi\u001b[0m\u001b[1;33m]\u001b[0m\u001b[1;33m,\u001b[0m\u001b[0msamples\u001b[0m\u001b[1;33m[\u001b[0m\u001b[0mj\u001b[0m\u001b[1;33m]\u001b[0m\u001b[1;33m)\u001b[0m\u001b[1;33m)\u001b[0m\u001b[1;33m\u001b[0m\u001b[1;33m\u001b[0m\u001b[0m\n\u001b[0m\u001b[0;32m     23\u001b[0m \u001b[1;33m\u001b[0m\u001b[0m\n\u001b[0;32m     24\u001b[0m         \u001b[1;32mreturn\u001b[0m \u001b[0mdistanceMatrix\u001b[0m\u001b[1;33m\u001b[0m\u001b[1;33m\u001b[0m\u001b[0m\n",
      "\u001b[1;32m<ipython-input-4-0066052573e1>\u001b[0m in \u001b[0;36mcalculateDistanceBetweenPointsForClusters\u001b[1;34m(self, sample1, sample2)\u001b[0m\n\u001b[0;32m     41\u001b[0m           \u001b[1;32mexcept\u001b[0m\u001b[1;33m:\u001b[0m\u001b[1;33m\u001b[0m\u001b[1;33m\u001b[0m\u001b[0m\n\u001b[0;32m     42\u001b[0m             \u001b[1;31m# if both are of different type, i.e. one is a cluster and other a sample\u001b[0m\u001b[1;33m\u001b[0m\u001b[1;33m\u001b[0m\u001b[1;33m\u001b[0m\u001b[0m\n\u001b[1;32m---> 43\u001b[1;33m             \u001b[0mdistance\u001b[0m\u001b[1;33m.\u001b[0m\u001b[0mappend\u001b[0m\u001b[1;33m(\u001b[0m\u001b[0mself\u001b[0m\u001b[1;33m.\u001b[0m\u001b[0minterSampleDistance\u001b[0m\u001b[1;33m(\u001b[0m\u001b[0msample1\u001b[0m\u001b[1;33m[\u001b[0m\u001b[0mi\u001b[0m\u001b[1;33m]\u001b[0m\u001b[1;33m,\u001b[0m \u001b[0msample2\u001b[0m\u001b[1;33m[\u001b[0m\u001b[0mj\u001b[0m\u001b[1;33m]\u001b[0m\u001b[1;33m)\u001b[0m\u001b[1;33m)\u001b[0m\u001b[1;33m\u001b[0m\u001b[1;33m\u001b[0m\u001b[0m\n\u001b[0m\u001b[0;32m     44\u001b[0m         \u001b[1;32mreturn\u001b[0m \u001b[0mmin\u001b[0m\u001b[1;33m(\u001b[0m\u001b[0mdistance\u001b[0m\u001b[1;33m)\u001b[0m\u001b[1;33m\u001b[0m\u001b[1;33m\u001b[0m\u001b[0m\n\u001b[0;32m     45\u001b[0m \u001b[1;33m\u001b[0m\u001b[0m\n",
      "\u001b[1;32m<ipython-input-4-0066052573e1>\u001b[0m in \u001b[0;36minterSampleDistance\u001b[1;34m(self, s1, s2)\u001b[0m\n\u001b[0;32m     63\u001b[0m           \u001b[0mloo4\u001b[0m \u001b[1;33m=\u001b[0m \u001b[0mlist\u001b[0m\u001b[1;33m(\u001b[0m\u001b[0mproduct\u001b[0m\u001b[1;33m(\u001b[0m\u001b[0mrange\u001b[0m\u001b[1;33m(\u001b[0m\u001b[0mlen\u001b[0m\u001b[1;33m(\u001b[0m\u001b[0ma\u001b[0m\u001b[1;33m)\u001b[0m\u001b[1;33m)\u001b[0m\u001b[1;33m,\u001b[0m \u001b[0mrange\u001b[0m\u001b[1;33m(\u001b[0m\u001b[0mlen\u001b[0m\u001b[1;33m(\u001b[0m\u001b[0mb\u001b[0m\u001b[1;33m)\u001b[0m\u001b[1;33m)\u001b[0m\u001b[1;33m)\u001b[0m\u001b[1;33m)\u001b[0m\u001b[1;33m\u001b[0m\u001b[1;33m\u001b[0m\u001b[0m\n\u001b[0;32m     64\u001b[0m         \u001b[1;32melse\u001b[0m\u001b[1;33m:\u001b[0m\u001b[1;33m\u001b[0m\u001b[1;33m\u001b[0m\u001b[0m\n\u001b[1;32m---> 65\u001b[1;33m           \u001b[0mloo4\u001b[0m \u001b[1;33m=\u001b[0m \u001b[0mlist\u001b[0m\u001b[1;33m(\u001b[0m\u001b[0mproduct\u001b[0m\u001b[1;33m(\u001b[0m\u001b[0mrange\u001b[0m\u001b[1;33m(\u001b[0m\u001b[0mlen\u001b[0m\u001b[1;33m(\u001b[0m\u001b[0mb\u001b[0m\u001b[1;33m)\u001b[0m\u001b[1;33m)\u001b[0m\u001b[1;33m,\u001b[0m \u001b[0mrange\u001b[0m\u001b[1;33m(\u001b[0m\u001b[0mlen\u001b[0m\u001b[1;33m(\u001b[0m\u001b[0ma\u001b[0m\u001b[1;33m)\u001b[0m\u001b[1;33m)\u001b[0m\u001b[1;33m)\u001b[0m\u001b[1;33m)\u001b[0m\u001b[1;33m\u001b[0m\u001b[1;33m\u001b[0m\u001b[0m\n\u001b[0m\u001b[0;32m     66\u001b[0m \u001b[1;33m\u001b[0m\u001b[0m\n\u001b[0;32m     67\u001b[0m         \u001b[1;32mfor\u001b[0m \u001b[0ml\u001b[0m \u001b[1;32min\u001b[0m \u001b[0mrange\u001b[0m\u001b[1;33m(\u001b[0m\u001b[0mlen\u001b[0m\u001b[1;33m(\u001b[0m\u001b[0mloo4\u001b[0m\u001b[1;33m)\u001b[0m\u001b[1;33m)\u001b[0m\u001b[1;33m:\u001b[0m\u001b[1;33m\u001b[0m\u001b[1;33m\u001b[0m\u001b[0m\n",
      "\u001b[1;31mTypeError\u001b[0m: object of type 'int' has no len()"
     ]
    }
   ],
   "source": [
    "clustersIndex = [[i] for i in range(X.shape[0])]\n",
    "actualClusters     = [[list(X[i])] for i in range(X.shape[0])]\n",
    "\n",
    "actClustLen = len(actualClusters)\n",
    "inst1  = myHierarchicalClustering()\n",
    "\n",
    "print('\\n')\n",
    "while actClustLen > 1:\n",
    "    print('Cluster size before current iteration    :- ', actClustLen)\n",
    "    distanceMatLV      = inst1.computeDistancesBetweenClusters(actualClusters)\n",
    "    minIdex = np.where(distanceMatLV==distanceMatLV.min())[0]\n",
    "    valueToAdd      = actualClusters.pop(minIdex[1])\n",
    "    actualClusters[minIdex[0]].append(valueToAdd)\n",
    "    \n",
    "    print('Cluster Node 1 :-' , clustersIndex[minIdex[0]])\n",
    "    print('Cluster Node 2 :-' , clustersIndex[minIdex[1]])\n",
    "    \n",
    "    clustersIndex[minIdex[0]].append(clustersIndex[minIdex[1]])\n",
    "    clustersIndex[minIdex[0]] = [clustersIndex[minIdex[0]]]\n",
    "    v = clustersIndex.pop(minIdex[1])\n",
    "    actClustLen = len(actualClusters)\n",
    "    \n",
    "    print('A look at the current clusters :-',clustersIndex)\n",
    "    print(' cluster attained at the current iteration :-',clustersIndex[minIdex[0]])\n",
    "    print('Cluster size after current iteration     :-',actClustLen)\n",
    "    print('\\n')\n",
    "    print(\"*\" * 40)\n",
    "    print('\\n')"
   ]
  },
  {
   "cell_type": "code",
   "execution_count": 7,
   "metadata": {
    "colab": {
     "base_uri": "https://localhost:8080/",
     "height": 586
    },
    "colab_type": "code",
    "id": "9O8zeh6RE1YV",
    "outputId": "d4b6fb7d-6126-4e40-8409-5e9ca55daa1f"
   },
   "outputs": [
    {
     "data": {
      "image/png": "[encoded data removed]",
      "text/plain": [
       "<Figure size 2160x720 with 1 Axes>"
      ]
     },
     "metadata": {
      "needs_background": "light"
     },
     "output_type": "display_data"
    }
   ],
   "source": [
    "from scipy.cluster.hierarchy import dendrogram, linkage\n",
    "from matplotlib import pyplot as plt\n",
    "Z = linkage(X, 'single')\n",
    "fig = plt.figure(figsize=(30, 10))\n",
    "dn = dendrogram(Z)"
   ]
  },
  {
   "cell_type": "code",
   "execution_count": 0,
   "metadata": {
    "colab": {},
    "colab_type": "code",
    "id": "TCKSp7pGO9YK"
   },
   "outputs": [],
   "source": []
  }
 ],
 "metadata": {
  "colab": {
   "collapsed_sections": [],
   "name": "PS5-code-changed.ipynb",
   "provenance": []
  },
  "kernelspec": {
   "display_name": "Python 3",
   "language": "python",
   "name": "python3"
  },
  "language_info": {
   "codemirror_mode": {
    "name": "ipython",
    "version": 3
   },
   "file_extension": ".py",
   "mimetype": "text/x-python",
   "name": "python",
   "nbconvert_exporter": "python",
   "pygments_lexer": "ipython3",
   "version": "3.7.3"
  }
 },
 "nbformat": 4,
 "nbformat_minor": 1
}
